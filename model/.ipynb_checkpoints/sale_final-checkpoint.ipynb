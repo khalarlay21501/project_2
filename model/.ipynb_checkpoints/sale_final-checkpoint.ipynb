{
 "cells": [
  {
   "cell_type": "code",
   "execution_count": 1,
   "id": "033c5ca9-5949-4746-b769-7532621c6e91",
   "metadata": {},
   "outputs": [
    {
     "data": {
      "text/plain": [
       "['season_encoder.pkl']"
      ]
     },
     "execution_count": 1,
     "metadata": {},
     "output_type": "execute_result"
    }
   ],
   "source": [
    "import pandas as pd\n",
    "import numpy as np\n",
    "import xgboost as xgb\n",
    "from sklearn.preprocessing import LabelEncoder\n",
    "import joblib  \n",
    "data = pd.read_csv(\"../data/final.csv\")\n",
    "data.dropna(inplace=True)\n",
    "data.fillna(data.mean(numeric_only=True))\n",
    "data[\"date\"] = pd.to_datetime(data[\"date\"], errors=\"coerce\")\n",
    "data[\"year\"] = data[\"date\"].dt.isocalendar().year\n",
    "data[\"month\"] = data[\"date\"].dt.month\n",
    "data[\"day\"] = data[\"date\"].dt.day\n",
    "data[\"weekday\"] = data[\"date\"].dt.weekday\n",
    "data[\"weekofyear\"] = data[\"date\"].dt.isocalendar().week\n",
    "encoder = LabelEncoder()\n",
    "data[\"season\"] = encoder.fit_transform(data[\"season\"])\n",
    "\n",
    "\n",
    "X = data[[\"weekday\", \"month\", \"is_festival\", \"season\",\n",
    "          \"weather_code (wmo code)\", \"temperature_2m_mean (°C)\",\n",
    "          \"snowfall_sum (cm)\", \"rain_sum (mm)\",\n",
    "          \"year\", \"day\", \"weekofyear\"]]\n",
    "y = data[\"sales\"]\n",
    "\n",
    "\n",
    "model = xgb.XGBRegressor(\n",
    "    objective=\"reg:squarederror\",\n",
    "    max_depth=4,\n",
    "    learning_rate=0.1,\n",
    "    n_estimators=100\n",
    ")\n",
    "model.fit(X, y)\n",
    "joblib.dump(model, \"sales_model.pkl\")\n",
    "joblib.dump(encoder, \"season_encoder.pkl\")"
   ]
  },
  {
   "cell_type": "code",
   "execution_count": null,
   "id": "4760f606-692c-4058-82c8-d7be8706c1dc",
   "metadata": {},
   "outputs": [],
   "source": []
  }
 ],
 "metadata": {
  "kernelspec": {
   "display_name": "Python 3",
   "language": "python",
   "name": "python3"
  },
  "language_info": {
   "codemirror_mode": {
    "name": "ipython",
    "version": 3
   },
   "file_extension": ".py",
   "mimetype": "text/x-python",
   "name": "python",
   "nbconvert_exporter": "python",
   "pygments_lexer": "ipython3",
   "version": "3.12.6"
  }
 },
 "nbformat": 4,
 "nbformat_minor": 5
}
